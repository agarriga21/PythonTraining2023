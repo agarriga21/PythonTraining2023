{
 "cells": [
  {
   "cell_type": "code",
   "execution_count": 1,
   "id": "518abff1",
   "metadata": {},
   "outputs": [],
   "source": [
    "import numpy as np\n"
   ]
  },
  {
   "cell_type": "code",
   "execution_count": null,
   "id": "0671fe53",
   "metadata": {},
   "outputs": [],
   "source": []
  },
  {
   "cell_type": "code",
   "execution_count": 2,
   "id": "2bdd87d2",
   "metadata": {},
   "outputs": [],
   "source": [
    "B = np.array([[3,-1],[-2,3]])\n",
    "C = np.array([0.2,0.8])\n",
    "c1=np.array([[0.2],[0.8]])"
   ]
  },
  {
   "cell_type": "code",
   "execution_count": 3,
   "id": "12686f67",
   "metadata": {},
   "outputs": [
    {
     "data": {
      "text/plain": [
       "array([[0.2],\n",
       "       [0.8]])"
      ]
     },
     "execution_count": 3,
     "metadata": {},
     "output_type": "execute_result"
    }
   ],
   "source": [
    "B.reshape((2,2))\n",
    "C.reshape((2,1))"
   ]
  },
  {
   "cell_type": "code",
   "execution_count": 4,
   "id": "fcf7ff01",
   "metadata": {},
   "outputs": [
    {
     "data": {
      "text/plain": [
       "array([[ 0.6, -0.8],\n",
       "       [-0.4,  2.4]])"
      ]
     },
     "execution_count": 4,
     "metadata": {},
     "output_type": "execute_result"
    }
   ],
   "source": [
    "B*C"
   ]
  },
  {
   "cell_type": "code",
   "execution_count": 5,
   "id": "79778aa3",
   "metadata": {},
   "outputs": [
    {
     "data": {
      "text/plain": [
       "array([-0.2,  2. ])"
      ]
     },
     "execution_count": 5,
     "metadata": {},
     "output_type": "execute_result"
    }
   ],
   "source": [
    "X = 0.35\n",
    "np.dot(B,C)"
   ]
  },
  {
   "cell_type": "code",
   "execution_count": 6,
   "id": "cbaa6d1e",
   "metadata": {},
   "outputs": [],
   "source": [
    "y = np.matmul(B,C)"
   ]
  },
  {
   "cell_type": "code",
   "execution_count": 7,
   "id": "d24bb73d",
   "metadata": {},
   "outputs": [
    {
     "data": {
      "text/plain": [
       "array([-0.2,  2. ])"
      ]
     },
     "execution_count": 7,
     "metadata": {},
     "output_type": "execute_result"
    }
   ],
   "source": [
    "y"
   ]
  },
  {
   "cell_type": "code",
   "execution_count": 8,
   "id": "37155748",
   "metadata": {},
   "outputs": [
    {
     "data": {
      "text/plain": [
       "(1, 2)"
      ]
     },
     "execution_count": 8,
     "metadata": {},
     "output_type": "execute_result"
    }
   ],
   "source": [
    "a = np.array([[0.75,0.25]])\n",
    "a.shape"
   ]
  },
  {
   "cell_type": "code",
   "execution_count": 9,
   "id": "67c536f5",
   "metadata": {},
   "outputs": [],
   "source": [
    "i = np.matmul(a,y)"
   ]
  },
  {
   "cell_type": "code",
   "execution_count": 10,
   "id": "9118e9fe",
   "metadata": {},
   "outputs": [
    {
     "data": {
      "text/plain": [
       "(1,)"
      ]
     },
     "execution_count": 10,
     "metadata": {},
     "output_type": "execute_result"
    }
   ],
   "source": [
    "i.shape"
   ]
  },
  {
   "cell_type": "code",
   "execution_count": 11,
   "id": "5cb07a48",
   "metadata": {},
   "outputs": [
    {
     "name": "stdout",
     "output_type": "stream",
     "text": [
      "0.7499999999999999\n"
     ]
    }
   ],
   "source": [
    "\n",
    "m = np.matmul(B,C)\n",
    "ans=(.35-2)/(-.2-2)\n",
    "print(ans)\n",
    "\n",
    "#which will deduce A0 to as below\n",
    "\n",
    "#a0 = (X-z)/(y-z)"
   ]
  },
  {
   "cell_type": "markdown",
   "id": "dede6bab",
   "metadata": {},
   "source": [
    "X=A*B*C\n",
    "X=A*y\n",
    ".35 = (a0,1-a0)*[-0.2,2]\n",
    "y=B*C matrix mult\n",
    "A1 = 1-A0\n",
    "find A\n",
    "given the rest\n",
    "a0*-.2 + (1-a0)*2 = .35\n",
    "a0 = .75\n",
    "a1=1-.75 = .25\n",
    "A=[a0,a1]"
   ]
  },
  {
   "cell_type": "code",
   "execution_count": 16,
   "id": "72478630",
   "metadata": {},
   "outputs": [],
   "source": [
    "load = np.loadtxt(\"datatest2.txt\")"
   ]
  },
  {
   "cell_type": "code",
   "execution_count": 17,
   "id": "65a15f6e",
   "metadata": {},
   "outputs": [
    {
     "name": "stdout",
     "output_type": "stream",
     "text": [
      "[[ 3.  2.  5.  5.  5.]\n",
      " [ 7.  5.  3.  0.  0.]\n",
      " [ 9.  0. 10. 11. 11.]\n",
      " [ 5.  0.  0.  0.  0.]\n",
      " [ 6.  0.  0.  0.  0.]\n",
      " [ 3.  0.  0.  0.  0.]]\n"
     ]
    }
   ],
   "source": [
    "print(load)"
   ]
  },
  {
   "cell_type": "code",
   "execution_count": 21,
   "id": "ce9f8c91",
   "metadata": {},
   "outputs": [],
   "source": [
    "gen = np.genfromtxt(\"datatest.txt\", delimiter=',')"
   ]
  },
  {
   "cell_type": "code",
   "execution_count": 22,
   "id": "84d15e96",
   "metadata": {},
   "outputs": [
    {
     "name": "stdout",
     "output_type": "stream",
     "text": [
      "[[ 5.  3.  4.  7.  2. 57. 34. 23.  8.  6. 43.  2.]\n",
      " [ 5. 54.  7.  9.  3.  4.  7.  3.  1.  2.  0. 98.]\n",
      " [ 5. 64.  5.  4.  2.  6.  3.  4.  8.  6.  3.  2.]]\n"
     ]
    }
   ],
   "source": [
    "print(gen)"
   ]
  },
  {
   "cell_type": "code",
   "execution_count": 25,
   "id": "6d9782ba",
   "metadata": {},
   "outputs": [],
   "source": [
    "gen2 = np.genfromtxt(\"datatest2.txt\", delimiter=' ')"
   ]
  },
  {
   "cell_type": "code",
   "execution_count": 26,
   "id": "58afb3f9",
   "metadata": {},
   "outputs": [
    {
     "data": {
      "text/plain": [
       "array([[ 3.,  2.,  5.,  5.,  5.],\n",
       "       [ 7.,  5.,  3.,  0.,  0.],\n",
       "       [ 9.,  0., 10., 11., 11.],\n",
       "       [ 5.,  0.,  0.,  0.,  0.],\n",
       "       [ 6.,  0.,  0.,  0.,  0.],\n",
       "       [ 3.,  0.,  0.,  0.,  0.]])"
      ]
     },
     "execution_count": 26,
     "metadata": {},
     "output_type": "execute_result"
    }
   ],
   "source": [
    "gen2"
   ]
  },
  {
   "cell_type": "code",
   "execution_count": 27,
   "id": "4efef3f0",
   "metadata": {},
   "outputs": [],
   "source": [
    "gen3 = np.genfromtxt(\"datatest3.txt\", delimiter='%')"
   ]
  },
  {
   "cell_type": "code",
   "execution_count": 28,
   "id": "1ffd1e00",
   "metadata": {},
   "outputs": [
    {
     "name": "stdout",
     "output_type": "stream",
     "text": [
      "[[5. 3. 4.]\n",
      " [2. 3. 7.]]\n"
     ]
    }
   ],
   "source": [
    "print(gen3)"
   ]
  },
  {
   "cell_type": "code",
   "execution_count": 34,
   "id": "bff8dc27",
   "metadata": {},
   "outputs": [],
   "source": [
    "arr1 = [1, 2, 3]\n",
    "arr2 = ['a', 'b', 'c']\n",
    "result  = zip(arr1, arr2)\n",
    "settedresult = set(result)"
   ]
  },
  {
   "cell_type": "code",
   "execution_count": 35,
   "id": "bd12d273",
   "metadata": {},
   "outputs": [
    {
     "name": "stdout",
     "output_type": "stream",
     "text": [
      "{(1, 'a'), (3, 'c'), (2, 'b')}\n"
     ]
    }
   ],
   "source": [
    "print(settedresult)"
   ]
  },
  {
   "cell_type": "code",
   "execution_count": 36,
   "id": "f5491d12",
   "metadata": {},
   "outputs": [
    {
     "name": "stdout",
     "output_type": "stream",
     "text": [
      "[(1, 2), (2, 4), (3, 6), (4, 8), (5, 10)]\n"
     ]
    }
   ],
   "source": [
    "a1=np.array([1,2,3,4,5])\n",
    "b1=np.array([2,4,6,8,10])\n",
    "result2  = zip(a1, b1)\n",
    "list_of_ab= list(result2)\n",
    "print(list_of_ab)"
   ]
  },
  {
   "cell_type": "code",
   "execution_count": 37,
   "id": "1ece7f3e",
   "metadata": {},
   "outputs": [],
   "source": [
    "c1=np.array(result2)"
   ]
  },
  {
   "cell_type": "code",
   "execution_count": 38,
   "id": "b53600fd",
   "metadata": {},
   "outputs": [
    {
     "name": "stdout",
     "output_type": "stream",
     "text": [
      "<zip object at 0x000002C2B7F54A00>\n"
     ]
    }
   ],
   "source": [
    "print(c1)"
   ]
  },
  {
   "cell_type": "code",
   "execution_count": 41,
   "id": "d8fbb3fd",
   "metadata": {},
   "outputs": [
    {
     "name": "stdout",
     "output_type": "stream",
     "text": [
      "[(1, 2), (2, 3), (3, 4), (4, 5), (5, 6)]\n"
     ]
    }
   ],
   "source": [
    "a2=np.array([[1,2,3,4,5],[2,3,4,5,6]])\n",
    "result3 = zip(a2[0], a2[1])\n",
    "list_of_ab2= list(result3)\n",
    "print(list_of_ab2)"
   ]
  },
  {
   "cell_type": "code",
   "execution_count": 43,
   "id": "d7723f50",
   "metadata": {},
   "outputs": [
    {
     "name": "stdout",
     "output_type": "stream",
     "text": [
      "(1, 2)\n",
      "(2, 3)\n",
      "(3, 4)\n",
      "(4, 5)\n",
      "(5, 6)\n"
     ]
    }
   ],
   "source": [
    "for y in list_of_ab2:\n",
    "    print(y)"
   ]
  },
  {
   "cell_type": "code",
   "execution_count": 55,
   "id": "04b95dae",
   "metadata": {},
   "outputs": [
    {
     "name": "stdout",
     "output_type": "stream",
     "text": [
      "wrong\n"
     ]
    }
   ],
   "source": [
    "if 1 > 2:\n",
    "    print(\"Five is greater than two!\")\n",
    "else:\n",
    "    print(\"wrong\")"
   ]
  },
  {
   "cell_type": "code",
   "execution_count": 47,
   "id": "b2715610",
   "metadata": {},
   "outputs": [
    {
     "data": {
      "text/plain": [
       "'\\nThis is a comment\\nwritten in\\nmore than just one line\\n'"
      ]
     },
     "execution_count": 47,
     "metadata": {},
     "output_type": "execute_result"
    }
   ],
   "source": [
    "\"\"\" \n",
    "This is a comment\n",
    "written in\n",
    "more than just one line\n",
    "\"\"\""
   ]
  },
  {
   "cell_type": "code",
   "execution_count": 52,
   "id": "2e8f5136",
   "metadata": {},
   "outputs": [
    {
     "name": "stdout",
     "output_type": "stream",
     "text": [
      "5.1 5 5.1\n",
      "<class 'str'> <class 'int'> <class 'float'>\n"
     ]
    }
   ],
   "source": [
    "a = 5.1\n",
    "\n",
    "x = str(a)    # x will be '3'\n",
    "y = int(a)    # y will be 3\n",
    "z = float(a)  # z will be 3.0\n",
    "\n",
    "print(x,y,z)\n",
    "print(type(x),type(y),type(z))"
   ]
  },
  {
   "cell_type": "code",
   "execution_count": 51,
   "id": "4e1a8ef9",
   "metadata": {},
   "outputs": [
    {
     "name": "stdout",
     "output_type": "stream",
     "text": [
      "Python is fantastic\n",
      "Python is fantastic\n"
     ]
    }
   ],
   "source": [
    "x = \"awesome\"\n",
    "\n",
    "def function():\n",
    "    global x\n",
    "    x = \"fantastic\"\n",
    "    print(\"Python is \" + x)\n",
    "\n",
    "function()\n",
    "\n",
    "print(\"Python is \" + x)"
   ]
  },
  {
   "cell_type": "code",
   "execution_count": 54,
   "id": "29b46f1f",
   "metadata": {},
   "outputs": [
    {
     "name": "stdout",
     "output_type": "stream",
     "text": [
      "NO!\n"
     ]
    }
   ],
   "source": [
    "def myFunction() :\n",
    "    return False\n",
    "\n",
    "if myFunction():\n",
    "    print(\"YES!\")\n",
    "else:\n",
    "    print(\"NO!\")\n"
   ]
  },
  {
   "cell_type": "code",
   "execution_count": null,
   "id": "6931893a",
   "metadata": {},
   "outputs": [],
   "source": []
  }
 ],
 "metadata": {
  "kernelspec": {
   "display_name": "Python 3 (ipykernel)",
   "language": "python",
   "name": "python3"
  },
  "language_info": {
   "codemirror_mode": {
    "name": "ipython",
    "version": 3
   },
   "file_extension": ".py",
   "mimetype": "text/x-python",
   "name": "python",
   "nbconvert_exporter": "python",
   "pygments_lexer": "ipython3",
   "version": "3.10.0"
  }
 },
 "nbformat": 4,
 "nbformat_minor": 5
}
